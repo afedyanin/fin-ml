{
 "cells": [
  {
   "cell_type": "code",
   "id": "initial_id",
   "metadata": {
    "collapsed": true,
    "ExecuteTime": {
     "end_time": "2025-04-17T15:35:50.557633Z",
     "start_time": "2025-04-17T15:35:50.554796Z"
    }
   },
   "source": [
    "from datetime import datetime, timezone\n",
    "import numpy as np\n",
    "from matplotlib import pyplot as plt\n",
    "\n",
    "from models.time_series_composer import TimeSeriesComposer\n",
    "from models.time_series_generator import TimeSeriesGenerator"
   ],
   "outputs": [],
   "execution_count": 51
  },
  {
   "metadata": {
    "ExecuteTime": {
     "end_time": "2025-04-17T15:35:50.562243Z",
     "start_time": "2025-04-17T15:35:50.558640Z"
    }
   },
   "cell_type": "code",
   "source": [
    "from_utc = datetime(2025, 4, 10, tzinfo=timezone.utc)\n",
    "to_utc = datetime(2025, 4, 16, tzinfo=timezone.utc)\n",
    "generator = TimeSeriesGenerator(from_utc, to_utc, '1h')"
   ],
   "id": "bd3ca9460b75efb4",
   "outputs": [],
   "execution_count": 52
  },
  {
   "metadata": {
    "ExecuteTime": {
     "end_time": "2025-04-17T15:35:50.568103Z",
     "start_time": "2025-04-17T15:35:50.562243Z"
    }
   },
   "cell_type": "code",
   "source": [
    "#df = generator.generate(lambda x : x)\n",
    "b = 12.1\n",
    "w = 0.5\n",
    "df = generator.generate(lambda x : x * w + b * np.random.normal(loc=0.0, scale=8.0), col_name=\"price\")\n",
    "#df"
   ],
   "id": "426076cde915aec3",
   "outputs": [],
   "execution_count": 53
  },
  {
   "metadata": {
    "ExecuteTime": {
     "end_time": "2025-04-17T15:35:50.576151Z",
     "start_time": "2025-04-17T15:35:50.568103Z"
    }
   },
   "cell_type": "code",
   "source": [
    "resampled_1h = df.resample(\"6h\").first()\n",
    "#df = TimeSeriesComposer.shift_column(df, col_name=\"price\", count=4)\n",
    "\n",
    "df"
   ],
   "id": "c500a89f131d72c3",
   "outputs": [
    {
     "data": {
      "text/plain": [
       "                                price\n",
       "2025-04-10 00:00:00+00:00   40.743593\n",
       "2025-04-10 01:00:00+00:00   41.243593\n",
       "2025-04-10 02:00:00+00:00   41.743593\n",
       "2025-04-10 03:00:00+00:00   42.243593\n",
       "2025-04-10 04:00:00+00:00   42.743593\n",
       "...                               ...\n",
       "2025-04-15 20:00:00+00:00  110.743593\n",
       "2025-04-15 21:00:00+00:00  111.243593\n",
       "2025-04-15 22:00:00+00:00  111.743593\n",
       "2025-04-15 23:00:00+00:00  112.243593\n",
       "2025-04-16 00:00:00+00:00  112.743593\n",
       "\n",
       "[145 rows x 1 columns]"
      ],
      "text/html": [
       "<div>\n",
       "<style scoped>\n",
       "    .dataframe tbody tr th:only-of-type {\n",
       "        vertical-align: middle;\n",
       "    }\n",
       "\n",
       "    .dataframe tbody tr th {\n",
       "        vertical-align: top;\n",
       "    }\n",
       "\n",
       "    .dataframe thead th {\n",
       "        text-align: right;\n",
       "    }\n",
       "</style>\n",
       "<table border=\"1\" class=\"dataframe\">\n",
       "  <thead>\n",
       "    <tr style=\"text-align: right;\">\n",
       "      <th></th>\n",
       "      <th>price</th>\n",
       "    </tr>\n",
       "  </thead>\n",
       "  <tbody>\n",
       "    <tr>\n",
       "      <th>2025-04-10 00:00:00+00:00</th>\n",
       "      <td>40.743593</td>\n",
       "    </tr>\n",
       "    <tr>\n",
       "      <th>2025-04-10 01:00:00+00:00</th>\n",
       "      <td>41.243593</td>\n",
       "    </tr>\n",
       "    <tr>\n",
       "      <th>2025-04-10 02:00:00+00:00</th>\n",
       "      <td>41.743593</td>\n",
       "    </tr>\n",
       "    <tr>\n",
       "      <th>2025-04-10 03:00:00+00:00</th>\n",
       "      <td>42.243593</td>\n",
       "    </tr>\n",
       "    <tr>\n",
       "      <th>2025-04-10 04:00:00+00:00</th>\n",
       "      <td>42.743593</td>\n",
       "    </tr>\n",
       "    <tr>\n",
       "      <th>...</th>\n",
       "      <td>...</td>\n",
       "    </tr>\n",
       "    <tr>\n",
       "      <th>2025-04-15 20:00:00+00:00</th>\n",
       "      <td>110.743593</td>\n",
       "    </tr>\n",
       "    <tr>\n",
       "      <th>2025-04-15 21:00:00+00:00</th>\n",
       "      <td>111.243593</td>\n",
       "    </tr>\n",
       "    <tr>\n",
       "      <th>2025-04-15 22:00:00+00:00</th>\n",
       "      <td>111.743593</td>\n",
       "    </tr>\n",
       "    <tr>\n",
       "      <th>2025-04-15 23:00:00+00:00</th>\n",
       "      <td>112.243593</td>\n",
       "    </tr>\n",
       "    <tr>\n",
       "      <th>2025-04-16 00:00:00+00:00</th>\n",
       "      <td>112.743593</td>\n",
       "    </tr>\n",
       "  </tbody>\n",
       "</table>\n",
       "<p>145 rows × 1 columns</p>\n",
       "</div>"
      ]
     },
     "execution_count": 54,
     "metadata": {},
     "output_type": "execute_result"
    }
   ],
   "execution_count": 54
  },
  {
   "metadata": {
    "ExecuteTime": {
     "end_time": "2025-04-17T15:35:50.639980Z",
     "start_time": "2025-04-17T15:35:50.576151Z"
    }
   },
   "cell_type": "code",
   "source": [
    "plt.scatter(df.tail(120).index, df.tail(120), label=\"seq\", color=\"b\")\n",
    "plt.scatter(resampled_1h.tail(20).index, resampled_1h.tail(20), label=\"close\", color=\"r\")"
   ],
   "id": "289baf0a0f15f855",
   "outputs": [
    {
     "data": {
      "text/plain": [
       "<matplotlib.collections.PathCollection at 0x16ef081d340>"
      ]
     },
     "execution_count": 55,
     "metadata": {},
     "output_type": "execute_result"
    },
    {
     "data": {
      "text/plain": [
       "<Figure size 640x480 with 1 Axes>"
      ],
      "image/png": "[encoded data removed]"
     },
     "metadata": {},
     "output_type": "display_data"
    }
   ],
   "execution_count": 55
  },
  {
   "metadata": {
    "ExecuteTime": {
     "end_time": "2025-04-17T15:35:50.642309Z",
     "start_time": "2025-04-17T15:35:50.639980Z"
    }
   },
   "cell_type": "code",
   "source": "",
   "id": "d650cdfca6e83326",
   "outputs": [],
   "execution_count": 55
  }
 ],
 "metadata": {
  "kernelspec": {
   "display_name": "Python 3",
   "language": "python",
   "name": "python3"
  },
  "language_info": {
   "codemirror_mode": {
    "name": "ipython",
    "version": 2
   },
   "file_extension": ".py",
   "mimetype": "text/x-python",
   "name": "python",
   "nbconvert_exporter": "python",
   "pygments_lexer": "ipython2",
   "version": "2.7.6"
  }
 },
 "nbformat": 4,
 "nbformat_minor": 5
}
