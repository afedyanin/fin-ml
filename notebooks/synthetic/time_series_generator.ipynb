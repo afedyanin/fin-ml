{
 "cells": [
  {
   "cell_type": "code",
   "id": "initial_id",
   "metadata": {
    "collapsed": true,
    "ExecuteTime": {
     "end_time": "2025-04-16T17:13:22.358116Z",
     "start_time": "2025-04-16T17:13:21.919643Z"
    }
   },
   "source": [
    "from datetime import datetime, timezone\n",
    "from matplotlib import pyplot as plt\n",
    "from models.time_series_generator import TimeSeriesGenerator"
   ],
   "outputs": [],
   "execution_count": 1
  },
  {
   "metadata": {
    "ExecuteTime": {
     "end_time": "2025-04-16T17:13:23.028251Z",
     "start_time": "2025-04-16T17:13:23.025288Z"
    }
   },
   "cell_type": "code",
   "source": [
    "from_utc = datetime(2025, 1, 1, tzinfo=timezone.utc)\n",
    "to_utc = datetime(2025, 4, 16, tzinfo=timezone.utc)\n",
    "generator = TimeSeriesGenerator(from_utc, to_utc, '10min')"
   ],
   "id": "bd3ca9460b75efb4",
   "outputs": [],
   "execution_count": 2
  },
  {
   "metadata": {
    "ExecuteTime": {
     "end_time": "2025-04-16T17:13:34.359598Z",
     "start_time": "2025-04-16T17:13:34.352060Z"
    }
   },
   "cell_type": "code",
   "source": [
    "#df = generator.generate(lambda x : x)\n",
    "b = 0.1\n",
    "w = 0.01\n",
    "df = generator.generate(lambda x : x * w + b, \"lin_price\")\n",
    "df"
   ],
   "id": "426076cde915aec3",
   "outputs": [
    {
     "data": {
      "text/plain": [
       "                           lin_price\n",
       "2025-01-01 00:00:00+00:00       0.10\n",
       "2025-01-01 00:10:00+00:00       0.11\n",
       "2025-01-01 00:20:00+00:00       0.12\n",
       "2025-01-01 00:30:00+00:00       0.13\n",
       "2025-01-01 00:40:00+00:00       0.14\n",
       "...                              ...\n",
       "2025-04-15 23:20:00+00:00     151.26\n",
       "2025-04-15 23:30:00+00:00     151.27\n",
       "2025-04-15 23:40:00+00:00     151.28\n",
       "2025-04-15 23:50:00+00:00     151.29\n",
       "2025-04-16 00:00:00+00:00     151.30\n",
       "\n",
       "[15121 rows x 1 columns]"
      ],
      "text/html": [
       "<div>\n",
       "<style scoped>\n",
       "    .dataframe tbody tr th:only-of-type {\n",
       "        vertical-align: middle;\n",
       "    }\n",
       "\n",
       "    .dataframe tbody tr th {\n",
       "        vertical-align: top;\n",
       "    }\n",
       "\n",
       "    .dataframe thead th {\n",
       "        text-align: right;\n",
       "    }\n",
       "</style>\n",
       "<table border=\"1\" class=\"dataframe\">\n",
       "  <thead>\n",
       "    <tr style=\"text-align: right;\">\n",
       "      <th></th>\n",
       "      <th>lin_price</th>\n",
       "    </tr>\n",
       "  </thead>\n",
       "  <tbody>\n",
       "    <tr>\n",
       "      <th>2025-01-01 00:00:00+00:00</th>\n",
       "      <td>0.10</td>\n",
       "    </tr>\n",
       "    <tr>\n",
       "      <th>2025-01-01 00:10:00+00:00</th>\n",
       "      <td>0.11</td>\n",
       "    </tr>\n",
       "    <tr>\n",
       "      <th>2025-01-01 00:20:00+00:00</th>\n",
       "      <td>0.12</td>\n",
       "    </tr>\n",
       "    <tr>\n",
       "      <th>2025-01-01 00:30:00+00:00</th>\n",
       "      <td>0.13</td>\n",
       "    </tr>\n",
       "    <tr>\n",
       "      <th>2025-01-01 00:40:00+00:00</th>\n",
       "      <td>0.14</td>\n",
       "    </tr>\n",
       "    <tr>\n",
       "      <th>...</th>\n",
       "      <td>...</td>\n",
       "    </tr>\n",
       "    <tr>\n",
       "      <th>2025-04-15 23:20:00+00:00</th>\n",
       "      <td>151.26</td>\n",
       "    </tr>\n",
       "    <tr>\n",
       "      <th>2025-04-15 23:30:00+00:00</th>\n",
       "      <td>151.27</td>\n",
       "    </tr>\n",
       "    <tr>\n",
       "      <th>2025-04-15 23:40:00+00:00</th>\n",
       "      <td>151.28</td>\n",
       "    </tr>\n",
       "    <tr>\n",
       "      <th>2025-04-15 23:50:00+00:00</th>\n",
       "      <td>151.29</td>\n",
       "    </tr>\n",
       "    <tr>\n",
       "      <th>2025-04-16 00:00:00+00:00</th>\n",
       "      <td>151.30</td>\n",
       "    </tr>\n",
       "  </tbody>\n",
       "</table>\n",
       "<p>15121 rows × 1 columns</p>\n",
       "</div>"
      ]
     },
     "execution_count": 6,
     "metadata": {},
     "output_type": "execute_result"
    }
   ],
   "execution_count": 6
  },
  {
   "metadata": {
    "ExecuteTime": {
     "end_time": "2025-04-16T17:13:25.369566Z",
     "start_time": "2025-04-16T17:13:25.366100Z"
    }
   },
   "cell_type": "code",
   "source": "resampled_1h = df.resample(\"1h\").first()",
   "id": "c500a89f131d72c3",
   "outputs": [],
   "execution_count": 4
  },
  {
   "metadata": {
    "ExecuteTime": {
     "end_time": "2025-04-16T17:13:26.135107Z",
     "start_time": "2025-04-16T17:13:26.047731Z"
    }
   },
   "cell_type": "code",
   "source": [
    "plt.scatter(df.tail(120).index, df.tail(120), label=\"seq\", color=\"b\")\n",
    "plt.scatter(resampled_1h.tail(20).index, resampled_1h.tail(20), label=\"close\", color=\"r\")"
   ],
   "id": "289baf0a0f15f855",
   "outputs": [
    {
     "data": {
      "text/plain": [
       "<matplotlib.collections.PathCollection at 0x24441e306e0>"
      ]
     },
     "execution_count": 5,
     "metadata": {},
     "output_type": "execute_result"
    },
    {
     "data": {
      "text/plain": [
       "<Figure size 640x480 with 1 Axes>"
      ],
      "image/png": "[encoded data removed]"
     },
     "metadata": {},
     "output_type": "display_data"
    }
   ],
   "execution_count": 5
  },
  {
   "metadata": {},
   "cell_type": "code",
   "outputs": [],
   "execution_count": null,
   "source": "",
   "id": "d650cdfca6e83326"
  }
 ],
 "metadata": {
  "kernelspec": {
   "display_name": "Python 3",
   "language": "python",
   "name": "python3"
  },
  "language_info": {
   "codemirror_mode": {
    "name": "ipython",
    "version": 2
   },
   "file_extension": ".py",
   "mimetype": "text/x-python",
   "name": "python",
   "nbconvert_exporter": "python",
   "pygments_lexer": "ipython2",
   "version": "2.7.6"
  }
 },
 "nbformat": 4,
 "nbformat_minor": 5
}
