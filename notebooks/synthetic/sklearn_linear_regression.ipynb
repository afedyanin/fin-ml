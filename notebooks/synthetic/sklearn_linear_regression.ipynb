{
 "cells": [
  {
   "cell_type": "code",
   "id": "initial_id",
   "metadata": {
    "collapsed": true,
    "ExecuteTime": {
     "end_time": "2025-04-17T15:16:04.485774Z",
     "start_time": "2025-04-17T15:16:04.482251Z"
    }
   },
   "source": [
    "from datetime import datetime, timezone\n",
    "from matplotlib import pyplot as plt\n",
    "import numpy as np\n",
    "from sklearn.metrics import mean_absolute_error, mean_squared_error, root_mean_squared_error\n",
    "from sklearn.model_selection import train_test_split\n",
    "from sklearn.linear_model import LinearRegression\n",
    "\n",
    "from models.time_series_composer import TimeSeriesComposer\n",
    "from models.time_series_generator import TimeSeriesGenerator"
   ],
   "outputs": [],
   "execution_count": 58
  },
  {
   "metadata": {
    "ExecuteTime": {
     "end_time": "2025-04-17T15:16:04.498917Z",
     "start_time": "2025-04-17T15:16:04.485774Z"
    }
   },
   "cell_type": "code",
   "source": [
    "from_utc = datetime(2025, 4, 1, tzinfo=timezone.utc)\n",
    "to_utc = datetime(2025, 4, 16, tzinfo=timezone.utc)\n",
    "generator = TimeSeriesGenerator(from_utc, to_utc, '1h')\n",
    "\n",
    "b = 0.01\n",
    "w = 0.25\n",
    "df = generator.generate(lambda x : x * w + b + np.random.randn(), col_name=\"price\")\n",
    "df = TimeSeriesComposer.shift_column(df, col_name=\"price\")\n",
    "df.dropna(inplace = True) \n",
    "\n",
    "#df.head()"
   ],
   "id": "e6b314ea9868b94e",
   "outputs": [],
   "execution_count": 59
  },
  {
   "metadata": {
    "ExecuteTime": {
     "end_time": "2025-04-17T15:16:04.504564Z",
     "start_time": "2025-04-17T15:16:04.498917Z"
    }
   },
   "cell_type": "code",
   "source": [
    "X = np.array(df['price_T-1']).reshape(-1, 1)\n",
    "y = np.array(df['price']).reshape(-1, 1)\n",
    "X_train, X_test, y_train, y_test = train_test_split(X, y, test_size = 0.25)"
   ],
   "id": "e2390c6ac50528a8",
   "outputs": [],
   "execution_count": 60
  },
  {
   "metadata": {
    "ExecuteTime": {
     "end_time": "2025-04-17T15:16:04.511582Z",
     "start_time": "2025-04-17T15:16:04.505571Z"
    }
   },
   "cell_type": "code",
   "source": [
    "regression = LinearRegression() \n",
    "regression.fit(X_train, y_train) \n",
    "y_pred = regression.predict(X_test) \n"
   ],
   "id": "1b1485cda2e32522",
   "outputs": [],
   "execution_count": 61
  },
  {
   "metadata": {
    "ExecuteTime": {
     "end_time": "2025-04-17T15:16:04.562199Z",
     "start_time": "2025-04-17T15:16:04.512088Z"
    }
   },
   "cell_type": "code",
   "source": [
    "plt.scatter(X_test, y_test, color ='b') \n",
    "plt.plot(X_test, y_pred, color ='k') \n"
   ],
   "id": "45b3a49dc05e5d26",
   "outputs": [
    {
     "data": {
      "text/plain": [
       "[<matplotlib.lines.Line2D at 0x1d0885804d0>]"
      ]
     },
     "execution_count": 62,
     "metadata": {},
     "output_type": "execute_result"
    },
    {
     "data": {
      "text/plain": [
       "<Figure size 640x480 with 1 Axes>"
      ],
      "image/png": "[encoded data removed]"
     },
     "metadata": {},
     "output_type": "display_data"
    }
   ],
   "execution_count": 62
  },
  {
   "metadata": {
    "ExecuteTime": {
     "end_time": "2025-04-17T15:16:04.565812Z",
     "start_time": "2025-04-17T15:16:04.562199Z"
    }
   },
   "cell_type": "code",
   "source": [
    "mae = mean_absolute_error(y_true=y_test,y_pred=y_pred) \n",
    "mse = mean_squared_error(y_true=y_test,y_pred=y_pred)  \n",
    "rmse = root_mean_squared_error(y_true=y_test,y_pred=y_pred) \n",
    "  \n",
    "print(\"MAE:\",mae) \n",
    "print(\"MSE:\",mse) \n",
    "print(\"RMSE:\",rmse)"
   ],
   "id": "91f83964c8b1c4d4",
   "outputs": [
    {
     "name": "stdout",
     "output_type": "stream",
     "text": [
      "MAE: 3.947459643111668e-17\n",
      "MSE: 1.4024193870595766e-31\n",
      "RMSE: 3.744889033148481e-16\n"
     ]
    }
   ],
   "execution_count": 63
  },
  {
   "metadata": {
    "ExecuteTime": {
     "end_time": "2025-04-17T15:16:04.568281Z",
     "start_time": "2025-04-17T15:16:04.565812Z"
    }
   },
   "cell_type": "code",
   "source": [
    "print(\"Intercept (b) = \", regression.intercept_)\n",
    "print(\"Coefficients (w) = \", regression.coef_)"
   ],
   "id": "f1867a759a812b00",
   "outputs": [
    {
     "name": "stdout",
     "output_type": "stream",
     "text": [
      "Intercept (b) =  [0.25]\n",
      "Coefficients (w) =  [[1.]]\n"
     ]
    }
   ],
   "execution_count": 64
  },
  {
   "metadata": {
    "ExecuteTime": {
     "end_time": "2025-04-17T15:16:04.570266Z",
     "start_time": "2025-04-17T15:16:04.568281Z"
    }
   },
   "cell_type": "code",
   "source": " ",
   "id": "23da079fb12c48e5",
   "outputs": [],
   "execution_count": 64
  }
 ],
 "metadata": {
  "kernelspec": {
   "display_name": "Python 3",
   "language": "python",
   "name": "python3"
  },
  "language_info": {
   "codemirror_mode": {
    "name": "ipython",
    "version": 2
   },
   "file_extension": ".py",
   "mimetype": "text/x-python",
   "name": "python",
   "nbconvert_exporter": "python",
   "pygments_lexer": "ipython2",
   "version": "2.7.6"
  }
 },
 "nbformat": 4,
 "nbformat_minor": 5
}
